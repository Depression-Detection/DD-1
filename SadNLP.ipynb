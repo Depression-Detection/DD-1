{
  "nbformat": 4,
  "nbformat_minor": 0,
  "metadata": {
    "colab": {
      "name": "SadNLP.ipynb",
      "provenance": [],
      "collapsed_sections": []
    },
    "kernelspec": {
      "name": "python3",
      "display_name": "Python 3"
    },
    "language_info": {
      "name": "python"
    }
  },
  "cells": [
    {
      "cell_type": "code",
      "metadata": {
        "id": "OhUpAKyQAYcN"
      },
      "source": [
        "import tensorflow as tf\n",
        "import pandas as pd\n",
        "from tensorflow.keras.preprocessing.text import Tokenizer\n",
        "from tensorflow.keras.preprocessing.sequence import pad_sequences"
      ],
      "execution_count": null,
      "outputs": []
    },
    {
      "cell_type": "code",
      "metadata": {
        "id": "aHxziVWrBj11"
      },
      "source": [
        "test = pd.read_csv('https://raw.githubusercontent.com/Depression-Detection/resources/main/Emotions%20NLP%20Data/test.txt',sep=\";\",header=None)\n",
        "train = pd.read_csv('https://raw.githubusercontent.com/Depression-Detection/resources/main/Emotions%20NLP%20Data/train.txt',sep=\";\",header=None)\n",
        "val = pd.read_csv('https://raw.githubusercontent.com/Depression-Detection/resources/main/Emotions%20NLP%20Data/val.txt',sep=\";\",header=None)\n"
      ],
      "execution_count": null,
      "outputs": []
    },
    {
      "cell_type": "code",
      "metadata": {
        "colab": {
          "base_uri": "https://localhost:8080/"
        },
        "id": "hRW1hBJ8FmsN",
        "outputId": "da36c0cd-2e51-4622-a728-c4aee96c158a"
      },
      "source": [
        "\n",
        "#Seperated train dataframe into Sad and notSad to assign is_sad? values and then appended them and shuffled\n",
        "train.columns = ['text', 'emotion']\n",
        "SadTrain = train.loc[(train.emotion == \"sadness\")]\n",
        "SadTrain['is_sad?'] = 1\n",
        "SadTrainingText= SadTrain['text']\n",
        "#SadTrainingText.head()\n",
        "#SadTrain.head()\n",
        "#SadTrain.info()\n",
        "notSadTrain = train.loc[(train.emotion!='sadness')]\n",
        "notSadTrain['is_sad?'] = 0\n",
        "#notSadTrain.head()\n",
        "train = SadTrain.append(notSadTrain)\n",
        "train=train.sample(frac=1)\n",
        "trainText=train['text']\n",
        "trainText.head()"
      ],
      "execution_count": null,
      "outputs": [
        {
          "output_type": "stream",
          "text": [
            "/usr/local/lib/python3.7/dist-packages/ipykernel_launcher.py:5: SettingWithCopyWarning: \n",
            "A value is trying to be set on a copy of a slice from a DataFrame.\n",
            "Try using .loc[row_indexer,col_indexer] = value instead\n",
            "\n",
            "See the caveats in the documentation: https://pandas.pydata.org/pandas-docs/stable/user_guide/indexing.html#returning-a-view-versus-a-copy\n",
            "  \"\"\"\n",
            "/usr/local/lib/python3.7/dist-packages/ipykernel_launcher.py:11: SettingWithCopyWarning: \n",
            "A value is trying to be set on a copy of a slice from a DataFrame.\n",
            "Try using .loc[row_indexer,col_indexer] = value instead\n",
            "\n",
            "See the caveats in the documentation: https://pandas.pydata.org/pandas-docs/stable/user_guide/indexing.html#returning-a-view-versus-a-copy\n",
            "  # This is added back by InteractiveShellApp.init_path()\n"
          ],
          "name": "stderr"
        },
        {
          "output_type": "execute_result",
          "data": {
            "text/plain": [
              "15663    i sometimes feel so overwhelmed by the hats th...\n",
              "3709     i feel a discontent an almost constant pull to...\n",
              "9866     i know about bigger kids than her so i dont ta...\n",
              "8948     i apply it i walk very fast around the room be...\n",
              "7301     i can genuinely say that there isnt much to di...\n",
              "Name: text, dtype: object"
            ]
          },
          "metadata": {
            "tags": []
          },
          "execution_count": 3
        }
      ]
    },
    {
      "cell_type": "code",
      "metadata": {
        "colab": {
          "base_uri": "https://localhost:8080/"
        },
        "id": "Bq-iGfugX68G",
        "outputId": "97b98f65-28e6-4215-f2f1-15c268a6b1b0"
      },
      "source": [
        "#same for test data\n",
        "test.columns = ['text', 'emotion']\n",
        "SadTest = test.loc[(test.emotion == \"sadness\")]\n",
        "SadTest['is_sad?'] = 1\n",
        "SadTestingText= SadTest['text']\n",
        "notSadTest = test.loc[(test.emotion!='sadness')]\n",
        "notSadTest['is_sad?'] = 0\n",
        "#notSadTrain.head()\n",
        "test = SadTest.append(notSadTest)\n",
        "test=test.sample(frac=1)\n",
        "testText=test['text']\n",
        "testText.head()"
      ],
      "execution_count": null,
      "outputs": [
        {
          "output_type": "stream",
          "text": [
            "/usr/local/lib/python3.7/dist-packages/ipykernel_launcher.py:4: SettingWithCopyWarning: \n",
            "A value is trying to be set on a copy of a slice from a DataFrame.\n",
            "Try using .loc[row_indexer,col_indexer] = value instead\n",
            "\n",
            "See the caveats in the documentation: https://pandas.pydata.org/pandas-docs/stable/user_guide/indexing.html#returning-a-view-versus-a-copy\n",
            "  after removing the cwd from sys.path.\n",
            "/usr/local/lib/python3.7/dist-packages/ipykernel_launcher.py:7: SettingWithCopyWarning: \n",
            "A value is trying to be set on a copy of a slice from a DataFrame.\n",
            "Try using .loc[row_indexer,col_indexer] = value instead\n",
            "\n",
            "See the caveats in the documentation: https://pandas.pydata.org/pandas-docs/stable/user_guide/indexing.html#returning-a-view-versus-a-copy\n",
            "  import sys\n"
          ],
          "name": "stderr"
        },
        {
          "output_type": "execute_result",
          "data": {
            "text/plain": [
              "829     i believe feeling duality suffering soul growt...\n",
              "326                            i just can t feel accepted\n",
              "1272    i feel very honored in how much he has shared ...\n",
              "560     i do know that i tell some people if i feel th...\n",
              "1498    i feel like this is a way i can combine all of...\n",
              "Name: text, dtype: object"
            ]
          },
          "metadata": {
            "tags": []
          },
          "execution_count": 4
        }
      ]
    },
    {
      "cell_type": "code",
      "metadata": {
        "id": "yvyRXjcvbL2i"
      },
      "source": [
        "trainingLabels=train['is_sad?']\n",
        "testingLabels=test['is_sad?']\n",
        "#testingLabels.head()"
      ],
      "execution_count": null,
      "outputs": []
    },
    {
      "cell_type": "code",
      "metadata": {
        "id": "v6yoNLz7HIQb"
      },
      "source": [
        "tokenizer = Tokenizer(num_words=5000, oov_token=\"<OOV>\")\n",
        "tokenizer.fit_on_texts(trainText)\n",
        "word_index = tokenizer.word_index\n",
        "\n",
        "TrainingSequences = tokenizer.texts_to_sequences(trainText)\n",
        "TrainingPadded = pad_sequences(TrainingSequences, padding='post', truncating='post', maxlen=100)\n",
        "\n",
        "TestingSequences = tokenizer.texts_to_sequences(testText)\n",
        "TestingPadded = pad_sequences(TestingSequences, padding='post', truncating='post', maxlen=100)"
      ],
      "execution_count": null,
      "outputs": []
    },
    {
      "cell_type": "code",
      "metadata": {
        "id": "UVnSKsnxcUfB"
      },
      "source": [
        "# Need this block to get it to work with TensorFlow 2.x\n",
        "import numpy as np\n",
        "TrainingPadded = np.array(TrainingPadded)\n",
        "trainingLabels = np.array(trainingLabels)\n",
        "TestingPadded = np.array(TestingPadded)\n",
        "testingLabels = np.array(testingLabels)"
      ],
      "execution_count": null,
      "outputs": []
    },
    {
      "cell_type": "code",
      "metadata": {
        "id": "KA4YYKVwPZ-m"
      },
      "source": [
        "model = tf.keras.Sequential([\n",
        "    tf.keras.layers.Embedding(5000, 16, input_length=100),\n",
        "    tf.keras.layers.GlobalAveragePooling1D(),\n",
        "    tf.keras.layers.Dense(24, activation='relu'),\n",
        "    tf.keras.layers.Dense(1, activation='sigmoid')\n",
        "])\n",
        "model.compile(loss='binary_crossentropy',optimizer='adam',metrics=['accuracy'])"
      ],
      "execution_count": null,
      "outputs": []
    },
    {
      "cell_type": "code",
      "metadata": {
        "colab": {
          "base_uri": "https://localhost:8080/"
        },
        "id": "-IS2DT37cv0l",
        "outputId": "a072980e-1db6-4595-8c0c-649d4372695d"
      },
      "source": [
        "model.summary()"
      ],
      "execution_count": null,
      "outputs": [
        {
          "output_type": "stream",
          "text": [
            "Model: \"sequential_5\"\n",
            "_________________________________________________________________\n",
            "Layer (type)                 Output Shape              Param #   \n",
            "=================================================================\n",
            "embedding_5 (Embedding)      (None, 100, 16)           80000     \n",
            "_________________________________________________________________\n",
            "global_average_pooling1d_5 ( (None, 16)                0         \n",
            "_________________________________________________________________\n",
            "dense_10 (Dense)             (None, 24)                408       \n",
            "_________________________________________________________________\n",
            "dropout_3 (Dropout)          (None, 24)                0         \n",
            "_________________________________________________________________\n",
            "dense_11 (Dense)             (None, 1)                 25        \n",
            "=================================================================\n",
            "Total params: 80,433\n",
            "Trainable params: 80,433\n",
            "Non-trainable params: 0\n",
            "_________________________________________________________________\n"
          ],
          "name": "stdout"
        }
      ]
    },
    {
      "cell_type": "code",
      "metadata": {
        "colab": {
          "base_uri": "https://localhost:8080/"
        },
        "id": "TWbZjdmLc05n",
        "outputId": "166892fe-4643-4149-83b7-4d2a0b271664"
      },
      "source": [
        "num_epochs = 10\n",
        "history = model.fit(TrainingPadded, trainingLabels, epochs=num_epochs, validation_data=(TestingPadded, testingLabels), verbose=2)"
      ],
      "execution_count": null,
      "outputs": [
        {
          "output_type": "stream",
          "text": [
            "Epoch 1/8\n",
            "500/500 - 1s - loss: 0.6145 - accuracy: 0.7074 - val_loss: 0.5967 - val_accuracy: 0.7095\n",
            "Epoch 2/8\n",
            "500/500 - 1s - loss: 0.5922 - accuracy: 0.7084 - val_loss: 0.5740 - val_accuracy: 0.7095\n",
            "Epoch 3/8\n",
            "500/500 - 1s - loss: 0.5259 - accuracy: 0.7293 - val_loss: 0.4686 - val_accuracy: 0.8140\n",
            "Epoch 4/8\n",
            "500/500 - 1s - loss: 0.3732 - accuracy: 0.8404 - val_loss: 0.3026 - val_accuracy: 0.8985\n",
            "Epoch 5/8\n",
            "500/500 - 1s - loss: 0.2381 - accuracy: 0.9145 - val_loss: 0.2081 - val_accuracy: 0.9360\n",
            "Epoch 6/8\n",
            "500/500 - 1s - loss: 0.1701 - accuracy: 0.9331 - val_loss: 0.1629 - val_accuracy: 0.9510\n",
            "Epoch 7/8\n",
            "500/500 - 1s - loss: 0.1334 - accuracy: 0.9537 - val_loss: 0.1761 - val_accuracy: 0.9375\n",
            "Epoch 8/8\n",
            "500/500 - 1s - loss: 0.1190 - accuracy: 0.9681 - val_loss: 0.1748 - val_accuracy: 0.9400\n"
          ],
          "name": "stdout"
        }
      ]
    },
    {
      "cell_type": "code",
      "metadata": {
        "colab": {
          "base_uri": "https://localhost:8080/",
          "height": 544
        },
        "id": "0hGxHJL3z1_x",
        "outputId": "27c52d00-a28f-4cd9-8119-ecc92348f02c"
      },
      "source": [
        "acc = history.history['accuracy']\n",
        "loss = history.history['loss']\n",
        "vacc = history.history['val_accuracy']\n",
        "vloss = history.history['val_loss']\n",
        "\n",
        "import matplotlib.pyplot as plt\n",
        "\n",
        "epochs = range(1, len(acc) + 1)\n",
        "\n",
        "# plt.plot(epochs, acc, 'bo', label='Training acc')\n",
        "plt.plot(epochs, acc, 'bo', label='test acc')\n",
        "plt.plot(epochs, vacc, 'b', label='val acc')\n",
        "plt.title('Accuracy')\n",
        "plt.legend()\n",
        "\n",
        "plt.figure()\n",
        "\n",
        "plt.plot(epochs, loss, 'bo', label='test loss')\n",
        "plt.plot(epochs, vloss, 'b', label='val loss')\n",
        "\n",
        "plt.title('Loss')\n",
        "plt.legend()\n",
        "\n",
        "plt.show()"
      ],
      "execution_count": null,
      "outputs": [
        {
          "output_type": "display_data",
          "data": {
            "image/png": "[encoded data removed]",
            "text/plain": [
              "<Figure size 432x288 with 1 Axes>"
            ]
          },
          "metadata": {
            "tags": [],
            "needs_background": "light"
          }
        },
        {
          "output_type": "display_data",
          "data": {
            "image/png": "[encoded data removed]",
            "text/plain": [
              "<Figure size 432x288 with 1 Axes>"
            ]
          },
          "metadata": {
            "tags": [],
            "needs_background": "light"
          }
        }
      ]
    }
  ]
}